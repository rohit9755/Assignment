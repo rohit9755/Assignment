{
 "cells": [
  {
   "cell_type": "markdown",
   "id": "01ecfdb5-1360-497a-8910-d604f9d60dae",
   "metadata": {},
   "source": [
    "# Assignment-1"
   ]
  },
  {
   "cell_type": "markdown",
   "id": "8c5dced3-3d7c-49f2-a543-efa4f6d54df3",
   "metadata": {},
   "source": [
    "## 09may2023"
   ]
  },
  {
   "cell_type": "markdown",
   "id": "b1a8f204-a3b9-49e5-bdb9-bc48d4225143",
   "metadata": {},
   "source": [
    "### Q1. Create one variable containing following type of data:\n",
    "* (i) string\n",
    "* (ii) list\n",
    "* (iii) float\n",
    "* (iv) tuple"
   ]
  },
  {
   "cell_type": "code",
   "execution_count": 8,
   "id": "65b6ee4e-a322-4496-9156-13136274cab4",
   "metadata": {},
   "outputs": [
    {
     "name": "stdout",
     "output_type": "stream",
     "text": [
      "<class 'str'>\n",
      "<class 'list'>\n",
      "<class 'float'>\n",
      "<class 'tuple'>\n"
     ]
    }
   ],
   "source": [
    "#String\n",
    "a = \"ronny\"\n",
    "\n",
    "#List\n",
    "b = [\"Ronny\",\"techrathee\",123,123.1,\"Rohit\"]\n",
    "\n",
    "#Float\n",
    "c = 123.5\n",
    "\n",
    "#Tuple\n",
    "d = (\"priyanshu\", \"Harshraj\",\"Rohit\",\"techrathee\")\n",
    "\n",
    "# Print Type of all the variable \n",
    "print(type(a))\n",
    "print(type(b))\n",
    "print(type(c))\n",
    "print(type(d))\n"
   ]
  },
  {
   "cell_type": "markdown",
   "id": "620cf96a-91bf-4263-a49a-dffcd44f6468",
   "metadata": {
    "tags": []
   },
   "source": [
    "### Q2. Given are some following variables containing data:\n",
    "* (i) var1 = ‘ ‘\n",
    "* (ii) var2 = ‘[ DS , ML , Python]’\n",
    "* (iii) var3 = [ ‘DS’ , ’ML’ , ‘Python’ ]\n",
    "* (iv) var4 = 1."
   ]
  },
  {
   "cell_type": "code",
   "execution_count": null,
   "id": "321ee01f-7a91-42ce-84a3-e6bb734d8dc7",
   "metadata": {},
   "outputs": [],
   "source": [
    "Answer.\n",
    "(i) var1 is an empty string with the value ''\n",
    "\n",
    "(ii) var2 is a string containing the values 'DS', 'ML', and 'Python' within square brackets.\n",
    "\n",
    "(iii) var3 is a list containing the values 'DS', 'ML', and 'Python'. The values are enclosed in square brackets.\n",
    "\n",
    "(iv) var4 is an integer with the value 1.\n"
   ]
  },
  {
   "cell_type": "markdown",
   "id": "5fb9b35c-10ba-44db-bef2-6c693012cbdc",
   "metadata": {},
   "source": [
    "### Q3. Explain the use of the following operators using an example:\n",
    "* (i) /\n",
    "* (ii) %\n",
    "* (iii) //\n",
    "* (iv) **"
   ]
  },
  {
   "cell_type": "code",
   "execution_count": 9,
   "id": "e87c624a-8c01-40d2-ac02-b2fec14fb521",
   "metadata": {},
   "outputs": [
    {
     "name": "stdout",
     "output_type": "stream",
     "text": [
      "3.3333333333333335\n"
     ]
    }
   ],
   "source": [
    "#Answer.\n",
    "# (i) The / operator is the division operator in Python.\n",
    "a = 10\n",
    "b = 3\n",
    "\n",
    "result = a / b\n",
    "print(result)\n"
   ]
  },
  {
   "cell_type": "code",
   "execution_count": 10,
   "id": "a652ff9d-a4e9-424a-a1fc-cc1738b18013",
   "metadata": {},
   "outputs": [
    {
     "name": "stdout",
     "output_type": "stream",
     "text": [
      "1\n"
     ]
    }
   ],
   "source": [
    "#(ii) The % operator is the modulus operator in Python. It calculates the remainder when one number is divided by another.\n",
    "a = 10\n",
    "b = 3\n",
    "\n",
    "result = a % b\n",
    "print(result)\n"
   ]
  },
  {
   "cell_type": "code",
   "execution_count": 11,
   "id": "f94bfe89-6fe3-45e6-912a-960937f1574e",
   "metadata": {},
   "outputs": [
    {
     "name": "stdout",
     "output_type": "stream",
     "text": [
      "3\n"
     ]
    }
   ],
   "source": [
    "#(iii) The // operator is the floor division operator in Python. \n",
    "a = 10\n",
    "b = 3\n",
    "\n",
    "result = a // b\n",
    "print(result)\n"
   ]
  },
  {
   "cell_type": "code",
   "execution_count": 12,
   "id": "be375918-6d83-4e40-815a-eb7a97136d9d",
   "metadata": {},
   "outputs": [
    {
     "name": "stdout",
     "output_type": "stream",
     "text": [
      "8\n"
     ]
    }
   ],
   "source": [
    "#(iv) The ** operator is the exponentiation operator in Python. It raises a number to the power of another number.\n",
    "a = 2\n",
    "b = 3\n",
    "\n",
    "result = a ** b\n",
    "print(result)\n"
   ]
  },
  {
   "cell_type": "markdown",
   "id": "5610644c-9f6e-499e-8b21-2aa6bcb7d0f4",
   "metadata": {},
   "source": [
    "### Q4. Create a list of length 10 of your choice containing multiple types of data. Using for loop print the element and its data type."
   ]
  },
  {
   "cell_type": "code",
   "execution_count": 3,
   "id": "6f3aedeb-7c41-4f6a-bdfa-2ab0dc0d91d6",
   "metadata": {},
   "outputs": [
    {
     "name": "stdout",
     "output_type": "stream",
     "text": [
      "Data: 10, Type: <class 'int'>\n",
      "Data: Hello, Type: <class 'str'>\n",
      "Data: 3.14, Type: <class 'float'>\n",
      "Data: True, Type: <class 'bool'>\n",
      "Data: [1, 2, 3], Type: <class 'list'>\n",
      "Data: {'name': 'techrathee', 'age': 25}, Type: <class 'dict'>\n",
      "Data: (4, 5, 6), Type: <class 'tuple'>\n",
      "Data: None, Type: <class 'NoneType'>\n",
      "Data: False, Type: <class 'bool'>\n",
      "Data: Ronny, Type: <class 'str'>\n"
     ]
    }
   ],
   "source": [
    "#Here's an example of creating a list of length 10 with various data types and using a for loop to print each element and its corresponding data type:\n",
    "my_list = [10, 'Hello', 3.14, True, [1, 2, 3], {'name': 'techrathee', 'age': 25}, (4, 5, 6), None, False, 'Ronny']\n",
    "\n",
    "for i in my_list:\n",
    "    print(f\"Data: {i}, Type: {type(i)}\")\n"
   ]
  },
  {
   "cell_type": "markdown",
   "id": "3bae4dc6-1f62-4dd2-a82f-ea3e6ac2bade",
   "metadata": {},
   "source": [
    "### Q5. Using a while loop, verify if the number A is purely divisible by number B and if so then how many times it can be divisible."
   ]
  },
  {
   "cell_type": "code",
   "execution_count": 1,
   "id": "4ed28719-4da3-4839-8e84-793f69a70912",
   "metadata": {},
   "outputs": [
    {
     "name": "stdout",
     "output_type": "stream",
     "text": [
      "Number A is divisible by number B 1 times.\n"
     ]
    }
   ],
   "source": [
    "#Here's an example of using a while loop to verify if a number A is purely divisible by number B and counting how many times it can be divided:\n",
    "A = 10\n",
    "B = 2\n",
    "count = 0\n",
    "\n",
    "while A % B == 0:\n",
    "    A = A // B\n",
    "    count = count + 1\n",
    "\n",
    "print(f\"Number A is divisible by number B {count} times.\")\n"
   ]
  },
  {
   "cell_type": "markdown",
   "id": "7f3f0e24-dee6-46fe-90b7-6ebe3af314d8",
   "metadata": {},
   "source": [
    "### Q6. Create a list containing 25 int type data. Using for loop and if-else condition print if the element is divisible by 3 or not."
   ]
  },
  {
   "cell_type": "code",
   "execution_count": 2,
   "id": "eb67704d-ec03-47e5-af82-a878af0ce161",
   "metadata": {},
   "outputs": [
    {
     "name": "stdout",
     "output_type": "stream",
     "text": [
      "12 is divisible by 3.\n",
      "34 is not divisible by 3.\n",
      "15 is divisible by 3.\n",
      "27 is divisible by 3.\n",
      "8 is not divisible by 3.\n",
      "45 is divisible by 3.\n",
      "9 is divisible by 3.\n",
      "22 is not divisible by 3.\n",
      "33 is divisible by 3.\n",
      "18 is divisible by 3.\n",
      "7 is not divisible by 3.\n",
      "30 is divisible by 3.\n",
      "42 is divisible by 3.\n",
      "16 is not divisible by 3.\n",
      "25 is not divisible by 3.\n",
      "36 is divisible by 3.\n",
      "14 is not divisible by 3.\n",
      "21 is divisible by 3.\n",
      "39 is divisible by 3.\n",
      "50 is not divisible by 3.\n",
      "28 is not divisible by 3.\n",
      "17 is not divisible by 3.\n",
      "11 is not divisible by 3.\n",
      "20 is not divisible by 3.\n",
      "31 is not divisible by 3.\n"
     ]
    }
   ],
   "source": [
    "#Here's an example of how you can create a list containing 25 integer type data and use a for loop with an if-else condition \n",
    "#to print whether each element is divisible by 3 or not:\n",
    "data_list = [12, 34, 15, 27, 8, 45, 9, 22, 33, 18, 7, 30, 42, 16, 25, 36, 14, 21, 39, 50, 28, 17, 11, 20, 31]\n",
    "\n",
    "for num in data_list:\n",
    "    if num % 3 == 0:\n",
    "        print(f\"{num} is divisible by 3.\")\n",
    "    else:\n",
    "        print(f\"{num} is not divisible by 3.\")\n"
   ]
  },
  {
   "cell_type": "markdown",
   "id": "fd703439-505b-41d0-a8ec-62a616ea5f64",
   "metadata": {},
   "source": [
    "### Q7. What do you understand about mutable and immutable data types? Give examples for both showing this property."
   ]
  },
  {
   "cell_type": "code",
   "execution_count": null,
   "id": "901984b7-6547-4163-b31c-0f93d3ffdca5",
   "metadata": {},
   "outputs": [],
   "source": [
    "Answer.\n",
    "Mutable data types, on the other hand, allow their state to be modified after they are created. \n",
    "\n",
    "Lists: \n",
    "    Lists are commonly used mutable data types. You can modify elements, append or remove items, and change their length.\n",
    "    "
   ]
  },
  {
   "cell_type": "code",
   "execution_count": 2,
   "id": "8a750dca-1c01-40df-a753-318611a92d1f",
   "metadata": {},
   "outputs": [
    {
     "name": "stdout",
     "output_type": "stream",
     "text": [
      "[1, 2, 3, 4]\n"
     ]
    }
   ],
   "source": [
    "numbers = [1, 2, 3]\n",
    "numbers.append(4)\n",
    "print(numbers) \n"
   ]
  },
  {
   "cell_type": "code",
   "execution_count": 3,
   "id": "bb3dafd8-4492-4068-b701-79750184aaf4",
   "metadata": {},
   "outputs": [
    {
     "name": "stdout",
     "output_type": "stream",
     "text": [
      "[1, 5, 3, 4]\n"
     ]
    }
   ],
   "source": [
    "numbers[1] = 5\n",
    "print(numbers)\n"
   ]
  },
  {
   "cell_type": "code",
   "execution_count": 4,
   "id": "82db6dd7-2e12-4e54-a1f8-4d1b5819ac3f",
   "metadata": {},
   "outputs": [
    {
     "name": "stdout",
     "output_type": "stream",
     "text": [
      "[5, 3, 4]\n"
     ]
    }
   ],
   "source": [
    "del numbers[0]\n",
    "print(numbers)\n"
   ]
  },
  {
   "cell_type": "code",
   "execution_count": null,
   "id": "a536e50d-8f0a-40a8-b4ce-87c71d190328",
   "metadata": {},
   "outputs": [],
   "source": [
    "Dictionaries: \n",
    "    Dictionaries are mutable collections of key-value pairs. You can add, remove, or modify key-value pairs in a dictionary.\n",
    "    "
   ]
  },
  {
   "cell_type": "code",
   "execution_count": 5,
   "id": "35c150cb-d32b-44fd-ab96-4acb7e433e8d",
   "metadata": {},
   "outputs": [
    {
     "name": "stdout",
     "output_type": "stream",
     "text": [
      "{'name': 'John', 'age': 31}\n"
     ]
    }
   ],
   "source": [
    "person = {'name': 'John', 'age': 30}\n",
    "person['age'] = 31\n",
    "print(person)\n"
   ]
  },
  {
   "cell_type": "code",
   "execution_count": 6,
   "id": "9beab087-c913-4c23-aa67-af6799d56aa4",
   "metadata": {},
   "outputs": [
    {
     "name": "stdout",
     "output_type": "stream",
     "text": [
      "{'name': 'John', 'age': 31, 'city': 'New York'}\n"
     ]
    }
   ],
   "source": [
    "person['city'] = 'New York'\n",
    "print(person)\n"
   ]
  },
  {
   "cell_type": "code",
   "execution_count": 7,
   "id": "7a1aee8b-f8ae-401c-8b90-d66bf0840c1b",
   "metadata": {},
   "outputs": [
    {
     "name": "stdout",
     "output_type": "stream",
     "text": [
      "{'name': 'John', 'city': 'New York'}\n"
     ]
    }
   ],
   "source": [
    "del person['age']\n",
    "print(person)\n"
   ]
  },
  {
   "cell_type": "code",
   "execution_count": null,
   "id": "a0aaea40-4d19-4939-8177-4dc28b6794b5",
   "metadata": {},
   "outputs": [],
   "source": [
    "Immutable data types are those whose state cannot be modified after they are created.\n",
    "\n",
    "Strings:\n",
    "    In many programming languages, strings are immutable.\n",
    "    "
   ]
  },
  {
   "cell_type": "code",
   "execution_count": 11,
   "id": "e5404e14-d530-45eb-9f77-d8637ddee115",
   "metadata": {},
   "outputs": [
    {
     "ename": "TypeError",
     "evalue": "'str' object does not support item assignment",
     "output_type": "error",
     "traceback": [
      "\u001b[0;31m---------------------------------------------------------------------------\u001b[0m",
      "\u001b[0;31mTypeError\u001b[0m                                 Traceback (most recent call last)",
      "Cell \u001b[0;32mIn[11], line 2\u001b[0m\n\u001b[1;32m      1\u001b[0m r \u001b[38;5;241m=\u001b[39m \u001b[38;5;124m\"\u001b[39m\u001b[38;5;124mronny\u001b[39m\u001b[38;5;124m\"\u001b[39m\n\u001b[0;32m----> 2\u001b[0m \u001b[43mr\u001b[49m\u001b[43m[\u001b[49m\u001b[38;5;241;43m1\u001b[39;49m\u001b[43m]\u001b[49m\u001b[38;5;241m=\u001b[39m \u001b[38;5;124m'\u001b[39m\u001b[38;5;124ma\u001b[39m\u001b[38;5;124m'\u001b[39m\n",
      "\u001b[0;31mTypeError\u001b[0m: 'str' object does not support item assignment"
     ]
    }
   ],
   "source": [
    "r = \"ronny\"\n",
    "r[1]= 'a'\n"
   ]
  },
  {
   "cell_type": "code",
   "execution_count": null,
   "id": "4967c2d4-a1a6-4d03-95f8-a4e926fcf175",
   "metadata": {},
   "outputs": [],
   "source": [
    "Tuples:\n",
    "    Tuples are another example of immutable data types.\n",
    "    "
   ]
  },
  {
   "cell_type": "code",
   "execution_count": 15,
   "id": "60efa457-b0ce-4550-a3be-7901a2fe724d",
   "metadata": {},
   "outputs": [
    {
     "ename": "TypeError",
     "evalue": "'tuple' object does not support item assignment",
     "output_type": "error",
     "traceback": [
      "\u001b[0;31m---------------------------------------------------------------------------\u001b[0m",
      "\u001b[0;31mTypeError\u001b[0m                                 Traceback (most recent call last)",
      "Cell \u001b[0;32mIn[15], line 2\u001b[0m\n\u001b[1;32m      1\u001b[0m r \u001b[38;5;241m=\u001b[39m ( \u001b[38;5;124m\"\u001b[39m\u001b[38;5;124mronny\u001b[39m\u001b[38;5;124m\"\u001b[39m,\u001b[38;5;241m123\u001b[39m,\u001b[38;5;124m\"\u001b[39m\u001b[38;5;124mtechrathee\u001b[39m\u001b[38;5;124m\"\u001b[39m,\u001b[38;5;124m\"\u001b[39m\u001b[38;5;124mpriyanshu\u001b[39m\u001b[38;5;124m\"\u001b[39m)\n\u001b[0;32m----> 2\u001b[0m \u001b[43mr\u001b[49m\u001b[43m[\u001b[49m\u001b[38;5;241;43m3\u001b[39;49m\u001b[43m]\u001b[49m \u001b[38;5;241m=\u001b[39m \u001b[38;5;124m\"\u001b[39m\u001b[38;5;124mrathod\u001b[39m\u001b[38;5;124m\"\u001b[39m\n",
      "\u001b[0;31mTypeError\u001b[0m: 'tuple' object does not support item assignment"
     ]
    }
   ],
   "source": [
    "r = ( \"ronny\",123,\"techrathee\",\"priyanshu\")\n",
    "r[3] = \"rathod\"\n"
   ]
  },
  {
   "cell_type": "code",
   "execution_count": null,
   "id": "7b4d3574-ff78-4261-ac1d-5d593fe133c2",
   "metadata": {},
   "outputs": [],
   "source": []
  }
 ],
 "metadata": {
  "kernelspec": {
   "display_name": "Python 3 (ipykernel)",
   "language": "python",
   "name": "python3"
  },
  "language_info": {
   "codemirror_mode": {
    "name": "ipython",
    "version": 3
   },
   "file_extension": ".py",
   "mimetype": "text/x-python",
   "name": "python",
   "nbconvert_exporter": "python",
   "pygments_lexer": "ipython3",
   "version": "3.10.8"
  }
 },
 "nbformat": 4,
 "nbformat_minor": 5
}
