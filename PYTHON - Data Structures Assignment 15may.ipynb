{
 "cells": [
  {
   "cell_type": "markdown",
   "id": "d51162cf-47be-42c5-95ee-a6e922f393ce",
   "metadata": {},
   "source": [
    "# Assignment-2"
   ]
  },
  {
   "cell_type": "markdown",
   "id": "73eb4dc6-b890-4133-aa8d-e58b5da8f463",
   "metadata": {},
   "source": [
    "## 15may2023"
   ]
  },
  {
   "cell_type": "markdown",
   "id": "f90c1600-6c0c-4f65-aaa8-384a18e58dca",
   "metadata": {},
   "source": [
    "### Q1. How do you comment code in Python? What are the different types of comments?"
   ]
  },
  {
   "cell_type": "code",
   "execution_count": null,
   "id": "ba2b5752-84bc-4da9-84a1-81a67004f2ae",
   "metadata": {},
   "outputs": [],
   "source": [
    "Answer.\n",
    "In Python, you can use the hash symbol (#) to create single-line comments. Anything written after the hash symbol on the same line\n",
    "    will be ignored by the Python interpreter. Here's an example:\n",
    "    "
   ]
  },
  {
   "cell_type": "code",
   "execution_count": 4,
   "id": "04ee8d6a-21c4-4b34-8444-c76db4695438",
   "metadata": {},
   "outputs": [
    {
     "name": "stdout",
     "output_type": "stream",
     "text": [
      "Hello World\n"
     ]
    }
   ],
   "source": [
    "# this is print Hello World\n",
    "print (\"Hello World\")\n"
   ]
  },
  {
   "cell_type": "markdown",
   "id": "b750670c-f988-4978-9e95-8e968fafd06e",
   "metadata": {},
   "source": [
    "### Q2. What are variables in Python? How do you declare and assign values to variables?"
   ]
  },
  {
   "cell_type": "code",
   "execution_count": null,
   "id": "ae338ce4-434e-4439-91b6-b810719068d9",
   "metadata": {},
   "outputs": [],
   "source": [
    "Answer.\n",
    "In Python, variables are used to store data values. They act as symbolic names that refer to a specific value or object in the computer's memory.\n",
    "Variables can hold various types of data, such as numbers, strings, lists, or more complex objects.\n",
    "\n",
    "To declare a variable in Python, you simply choose a name for the variable and assign a value to it using the assignment operator (=).\n",
    "Here's an example:\n"
   ]
  },
  {
   "cell_type": "code",
   "execution_count": 1,
   "id": "d00341f4-ad97-4ee7-96aa-14aa8f3ec088",
   "metadata": {},
   "outputs": [
    {
     "name": "stdout",
     "output_type": "stream",
     "text": [
      "10\n"
     ]
    }
   ],
   "source": [
    "# Variable declaration and assignment\n",
    "x = 10\n",
    "print(x)\n"
   ]
  },
  {
   "cell_type": "markdown",
   "id": "f1dd9738-dedb-4078-8a33-836e22813d09",
   "metadata": {},
   "source": [
    "### Q3. How do you convert one data type to another in Python?"
   ]
  },
  {
   "cell_type": "code",
   "execution_count": null,
   "id": "5c7994c4-ec1f-42b0-b455-fb76d7a9c639",
   "metadata": {},
   "outputs": [],
   "source": [
    "Answer.\n",
    "In Python, you can convert one data type to another using type conversion functions or by using the constructors of the desired data type.\n",
    "Here are some common type conversion functions and techniques:\n",
    "    "
   ]
  },
  {
   "cell_type": "code",
   "execution_count": 2,
   "id": "8e888bd8-36d2-4cec-9682-a0daec9078c5",
   "metadata": {},
   "outputs": [
    {
     "name": "stdout",
     "output_type": "stream",
     "text": [
      "12\n"
     ]
    }
   ],
   "source": [
    "#int(): Converts a value to an integer.\n",
    "num_float = 12.3\n",
    "num_int = int(num_float)\n",
    "print(num_int) \n"
   ]
  },
  {
   "cell_type": "code",
   "execution_count": 3,
   "id": "96ba7a12-7523-4e89-96f5-f25f6c0ea3d4",
   "metadata": {},
   "outputs": [
    {
     "name": "stdout",
     "output_type": "stream",
     "text": [
      "10.0\n"
     ]
    }
   ],
   "source": [
    "#float(): Converts a value to a float.\n",
    "num_int = 10\n",
    "num_float = float(num_int)\n",
    "print(num_float)  \n"
   ]
  },
  {
   "cell_type": "code",
   "execution_count": 4,
   "id": "d41a82cd-7848-443a-baf3-b073afcedeff",
   "metadata": {},
   "outputs": [
    {
     "name": "stdout",
     "output_type": "stream",
     "text": [
      "42\n"
     ]
    }
   ],
   "source": [
    "#str(): Converts a value to a string.\n",
    "num = 42\n",
    "num_str = str(num)\n",
    "print(num_str)  \n"
   ]
  },
  {
   "cell_type": "markdown",
   "id": "7555f3c7-e493-4cac-978a-750c72b9f1c0",
   "metadata": {},
   "source": [
    "### Q4. How do you write and execute a Python script from the command line?"
   ]
  },
  {
   "cell_type": "code",
   "execution_count": null,
   "id": "cbe070f3-64c0-452f-80fa-66f844393f51",
   "metadata": {},
   "outputs": [],
   "source": [
    "Answer.\n",
    "To write and execute a Python script from the command line, follow these steps:\n",
    "    \n",
    "    1. Open a text editor or an integrated development environment (IDE) to write your Python script.\n",
    "    \n",
    "    2. Write your Python code in the text editor or IDE, and save the file with a .py extension. For example, you can save the file as script.py.\n",
    "    \n",
    "    3. Open a command line interface (e.g., Command Prompt on Windows, Terminal on macOS or Linux).\n",
    "    \n",
    "    4. Navigate to the directory where you saved your Python script using the cd command. \n",
    "    "
   ]
  },
  {
   "cell_type": "markdown",
   "id": "645f3c78-91ce-4c4a-bcd0-ee953a0e75f1",
   "metadata": {},
   "source": [
    "### Q5. Given a list my_list = [1, 2, 3, 4, 5], write the code to slice the list and obtain the sub-list [2, 3]."
   ]
  },
  {
   "cell_type": "code",
   "execution_count": 5,
   "id": "c3104b2b-1bc6-499e-a120-62dbae647e3f",
   "metadata": {},
   "outputs": [
    {
     "name": "stdout",
     "output_type": "stream",
     "text": [
      "[2, 3]\n"
     ]
    }
   ],
   "source": [
    "#Answer\n",
    "# You can use the following code:\n",
    "my_list = [1, 2, 3, 4, 5]\n",
    "sub_list = my_list[1:3]\n",
    "print(sub_list)\n"
   ]
  },
  {
   "cell_type": "markdown",
   "id": "70bb7f5b-6217-4303-b2c5-856ae475bbb8",
   "metadata": {},
   "source": [
    "### Q6. What is a complex number in mathematics, and how is it represented in Python?"
   ]
  },
  {
   "cell_type": "code",
   "execution_count": null,
   "id": "43a69fb3-550c-49d4-9266-f29b5b6073b7",
   "metadata": {},
   "outputs": [],
   "source": [
    "Answer.\n",
    "In mathematics, a complex number is a number that comprises a real part and an imaginary part. It is written in the form a + bi, where a is\n",
    "the real part, b is the imaginary part, and i represents the imaginary unit (which is defined as the square root of -1).\n",
    "\n",
    "In Python, complex numbers can be represented using the complex data type. The imaginary part of a complex number in Python is denoted by the\n",
    "suffix j or J. Here are a few examples:\n"
   ]
  },
  {
   "cell_type": "code",
   "execution_count": 13,
   "id": "ed6a05c1-cb06-47e0-bce7-3c6be75ae2b0",
   "metadata": {},
   "outputs": [
    {
     "name": "stdout",
     "output_type": "stream",
     "text": [
      "(2+3j)\n",
      "(-1.5+0.5j)\n",
      "(1-2j)\n",
      "<class 'complex'>\n"
     ]
    }
   ],
   "source": [
    "# Complex number representation in Python\n",
    "z1 = 2 + 3j\n",
    "z2 = -1.5 + 0.5j\n",
    "z3 = complex(1, -2)\n",
    "\n",
    "print(z1)\n",
    "print(z2) \n",
    "print(z3) \n",
    "print(type(z1))"
   ]
  },
  {
   "cell_type": "markdown",
   "id": "e9ae5dcd-af92-4db5-a933-027a088451e5",
   "metadata": {},
   "source": [
    "### Q7. What is the correct way to declare a variable named age and assign the value 25 to it?"
   ]
  },
  {
   "cell_type": "code",
   "execution_count": 15,
   "id": "8e789270-fa26-4c8f-8ecd-c9dce61c12ab",
   "metadata": {},
   "outputs": [
    {
     "name": "stdout",
     "output_type": "stream",
     "text": [
      "35\n",
      "True\n",
      "The age is: 25\n"
     ]
    }
   ],
   "source": [
    "#Answer\n",
    "#For example:\n",
    "age = 25\n",
    "\n",
    "# Use the variable in calculations\n",
    "future_age = age + 10\n",
    "print(future_age) \n",
    "\n",
    "# Use the variable in comparisons\n",
    "is_adult = age >= 18\n",
    "print(is_adult)  \n",
    "\n",
    "# Display the value of the variable\n",
    "print(\"The age is:\", age) \n"
   ]
  },
  {
   "cell_type": "markdown",
   "id": "164a1007-f8ac-41a2-a171-9da11dba90a1",
   "metadata": {},
   "source": [
    "### Q8. Declare a variable named price and assign the value 9.99 to it. What data type does this variable belong to?"
   ]
  },
  {
   "cell_type": "code",
   "execution_count": 16,
   "id": "772232bf-cc6c-4fe0-bf32-080ecaac8a01",
   "metadata": {},
   "outputs": [
    {
     "name": "stdout",
     "output_type": "stream",
     "text": [
      "<class 'float'>\n"
     ]
    }
   ],
   "source": [
    "#Answer.\n",
    "#Here's an example of declaring the price variable and printing its type:\n",
    "price = 9.99\n",
    "print(type(price))\n"
   ]
  },
  {
   "cell_type": "markdown",
   "id": "d17c953c-3699-4b30-bc33-2fe7df4d967a",
   "metadata": {},
   "source": [
    "### Q9. Create a variable named name and assign your full name to it as a string. How would you print the value of this variable?"
   ]
  },
  {
   "cell_type": "code",
   "execution_count": 17,
   "id": "00d54be1-8777-4e1c-bb9b-5e6f7c41250e",
   "metadata": {},
   "outputs": [
    {
     "name": "stdout",
     "output_type": "stream",
     "text": [
      "Rohit Rathod\n"
     ]
    }
   ],
   "source": [
    "#Answer.\n",
    "# You can use the following code:\n",
    "name = \"Rohit Rathod\"\n",
    "print(name)\n"
   ]
  },
  {
   "cell_type": "markdown",
   "id": "da7e3d54-f2cc-420b-9e86-a18ba637330e",
   "metadata": {},
   "source": [
    "### Q10. Given the string \"Hello, World!\", extract the substring \"World\"."
   ]
  },
  {
   "cell_type": "code",
   "execution_count": 18,
   "id": "5640fb72-27cd-4d4c-9dc2-1c2bb461070b",
   "metadata": {},
   "outputs": [
    {
     "name": "stdout",
     "output_type": "stream",
     "text": [
      "World\n"
     ]
    }
   ],
   "source": [
    "#Answer.\n",
    "#You can use string slicing in Python. Here's the code to accomplish that:\n",
    "string = \"Hello, World!\"\n",
    "substring = string[7:12]\n",
    "print(substring)\n"
   ]
  },
  {
   "cell_type": "markdown",
   "id": "547b08c2-388a-4c77-93d4-ee163cc2b40b",
   "metadata": {},
   "source": [
    "### Q11. Create a variable named \"is_student\" and assign it a boolean value indicating whether you are currently a student or not."
   ]
  },
  {
   "cell_type": "code",
   "execution_count": 19,
   "id": "7286d086-d78a-4cc5-81d9-ff5351e2de1e",
   "metadata": {},
   "outputs": [
    {
     "name": "stdout",
     "output_type": "stream",
     "text": [
      "True\n"
     ]
    }
   ],
   "source": [
    "#Answer.\n",
    "#To create a variable named is_student and assign it a boolean value indicating whether you are currently a student or not,you can use the following code:\n",
    "is_student = True\n",
    "print(is_student)\n"
   ]
  },
  {
   "cell_type": "code",
   "execution_count": null,
   "id": "1d9f3753-7359-484b-a2da-8c1119f4ca48",
   "metadata": {},
   "outputs": [],
   "source": []
  }
 ],
 "metadata": {
  "kernelspec": {
   "display_name": "Python 3 (ipykernel)",
   "language": "python",
   "name": "python3"
  },
  "language_info": {
   "codemirror_mode": {
    "name": "ipython",
    "version": 3
   },
   "file_extension": ".py",
   "mimetype": "text/x-python",
   "name": "python",
   "nbconvert_exporter": "python",
   "pygments_lexer": "ipython3",
   "version": "3.10.8"
  }
 },
 "nbformat": 4,
 "nbformat_minor": 5
}
